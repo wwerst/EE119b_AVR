{
 "cells": [
  {
   "cell_type": "markdown",
   "metadata": {},
   "source": [
    "# cond branch"
   ]
  },
  {
   "cell_type": "code",
   "execution_count": 1,
   "metadata": {},
   "outputs": [],
   "source": [
    "doc = \"\"\"; Tests the flow control conditional branch instructions.\n",
    "; These tests assume the BSET and BCLR instructions are functional.\n",
    "\"\"\""
   ]
  },
  {
   "cell_type": "code",
   "execution_count": 2,
   "metadata": {},
   "outputs": [],
   "source": [
    "def testBranchSet(bit, label, org):\n",
    "    \"\"\"Tests BRBS instruction for a given bit of the status register\"\"\"\n",
    "    return f\"\"\"\n",
    "        BSET {bit};\n",
    "        BRBS {bit}, {label}; bit set => branch should be taken\n",
    ".ORG 0x{org:04x};\n",
    "{label}: BCLR {bit};\n",
    "        BRBS {bit}, {label}; bit cleared => branch should not be taken\n",
    "\"\"\""
   ]
  },
  {
   "cell_type": "code",
   "execution_count": 3,
   "metadata": {},
   "outputs": [],
   "source": [
    "def testBranchClear(bit, label, org):\n",
    "    \"\"\"Tests BRBC instruction for a given bit of the status register\"\"\"\n",
    "    return f\"\"\"\n",
    "        BCLR {bit};\n",
    "        BRBC {bit}, {label}; bit clear => branch should be taken\n",
    "        .ORG 0x{org:04x};\n",
    "{label}: BSET {bit};\n",
    "        BRBC {bit}, {label}; bit set => branch should not be taken\n",
    "\"\"\""
   ]
  },
  {
   "cell_type": "code",
   "execution_count": 6,
   "metadata": {},
   "outputs": [],
   "source": [
    "contents = [\n",
    "    doc,\n",
    "    \";PREPROCESS TestBRBS\"\n",
    "]\n",
    "org = 0x0000\n",
    "for i in range(8):\n",
    "    org += 0x0010\n",
    "    contents += [testBranchSet(i, f\"branchSet{i}\", org)]\n",
    "    \n",
    "contents += [\";PREPROCESS TestBRBC\"]\n",
    "\n",
    "for i in range(8):\n",
    "    org += 0x0010\n",
    "    contents += [testBranchClear(i, f\"branchClear{i}\", org)]\n",
    "\n",
    "contents += [f\"\"\"\n",
    "        NOP;\n",
    "done:   RJMP done; loop forever\n",
    "\"\"\"]"
   ]
  },
  {
   "cell_type": "code",
   "execution_count": 7,
   "metadata": {},
   "outputs": [],
   "source": [
    "with open(\"flow_cond_branch.asm\", \"w\") as f:\n",
    "    f.write(\"\\n\".join(contents))"
   ]
  }
 ],
 "metadata": {
  "kernelspec": {
   "display_name": "Python 3",
   "language": "python",
   "name": "python3"
  },
  "language_info": {
   "codemirror_mode": {
    "name": "ipython",
    "version": 3
   },
   "file_extension": ".py",
   "mimetype": "text/x-python",
   "name": "python",
   "nbconvert_exporter": "python",
   "pygments_lexer": "ipython3",
   "version": "3.9.1"
  }
 },
 "nbformat": 4,
 "nbformat_minor": 4
}
