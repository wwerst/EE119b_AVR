{
 "cells": [
  {
   "cell_type": "markdown",
   "metadata": {},
   "source": [
    "# cond branch"
   ]
  },
  {
   "cell_type": "code",
   "execution_count": 1,
   "metadata": {},
   "outputs": [],
   "source": [
    "from avrasm import *"
   ]
  },
  {
   "cell_type": "code",
   "execution_count": 2,
   "metadata": {},
   "outputs": [],
   "source": [
    "doc = \"\"\"; Tests the flow control conditional branch instructions.\n",
    "; These tests assume the BSET and BCLR instructions are functional.\n",
    "; THIS FILE IS GENERATED\n",
    "; for explanations or modifications, see notebook cond_branch.ipynb\n",
    "\"\"\""
   ]
  },
  {
   "cell_type": "code",
   "execution_count": 3,
   "metadata": {},
   "outputs": [],
   "source": [
    "def setstatus(bit, isSet=True):\n",
    "    if isSet:\n",
    "        return BSET(bit)\n",
    "    else:\n",
    "        return BCLR(bit)"
   ]
  },
  {
   "cell_type": "code",
   "execution_count": 4,
   "metadata": {},
   "outputs": [],
   "source": [
    "def ORG(addr):\n",
    "    return Instruction(\".ORG\", (f\"0x{addr:04X}\",))"
   ]
  },
  {
   "cell_type": "code",
   "execution_count": 5,
   "metadata": {},
   "outputs": [],
   "source": [
    "def testBranchSet(bit, label, org):\n",
    "    \"\"\"Tests BRBS instruction for a given bit of the status register\"\"\"\n",
    "    return [\n",
    "        BSET(bit),\n",
    "        BRBS(bit, label)(\"bit set => branch should be taken\"),\n",
    "        ORG(org),\n",
    "        BCLR(bit)[label],\n",
    "        BRBS(bit, label)(\"bit cleared => branch should not be taken\")\n",
    "    ]"
   ]
  },
  {
   "cell_type": "code",
   "execution_count": 6,
   "metadata": {},
   "outputs": [],
   "source": [
    "def testBranchClear(bit, label, org):\n",
    "    \"\"\"Tests BRBC instruction for a given bit of the status register\"\"\"\n",
    "    return [\n",
    "        BCLR(bit),\n",
    "        BRBC(bit, label)(\"bit clear => branch should be taken\"),\n",
    "        ORG(org),\n",
    "        BSET(bit)[label],\n",
    "        BRBC(bit, label)(\"bit set => branch should not be taken\")\n",
    "    ]"
   ]
  },
  {
   "cell_type": "code",
   "execution_count": 7,
   "metadata": {},
   "outputs": [],
   "source": [
    "brbsTests = [\";PREPROCESS TestBRBS\"]\n",
    "org = 0x0000\n",
    "for i in range(8):\n",
    "    org += 0x0010\n",
    "    brbsTests += [testBranchSet(i, f\"branchSet{i}\", org)]\n",
    "    "
   ]
  },
  {
   "cell_type": "code",
   "execution_count": 8,
   "metadata": {},
   "outputs": [],
   "source": [
    "brbcTests = [\";PREPROCESS TestBRBC\"]\n",
    "for i in range(8):\n",
    "    org += 0x0010\n",
    "    brbcTests += [testBranchClear(i, f\"branchClear{i}\", org)]"
   ]
  },
  {
   "cell_type": "code",
   "execution_count": 10,
   "metadata": {},
   "outputs": [],
   "source": [
    "with open(\"flow_cond_branch.asm\", \"w\") as f:\n",
    "    f.write(stringify([doc, brbsTests, brbcTests]))"
   ]
  }
 ],
 "metadata": {
  "kernelspec": {
   "display_name": "Python 3",
   "language": "python",
   "name": "python3"
  },
  "language_info": {
   "codemirror_mode": {
    "name": "ipython",
    "version": 3
   },
   "file_extension": ".py",
   "mimetype": "text/x-python",
   "name": "python",
   "nbconvert_exporter": "python",
   "pygments_lexer": "ipython3",
   "version": "3.9.1"
  }
 },
 "nbformat": 4,
 "nbformat_minor": 4
}
