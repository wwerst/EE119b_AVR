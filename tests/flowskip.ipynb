{
 "cells": [
  {
   "cell_type": "markdown",
   "metadata": {},
   "source": [
    "# skips"
   ]
  },
  {
   "cell_type": "code",
   "execution_count": 1,
   "metadata": {},
   "outputs": [],
   "source": [
    "from random import sample, choice, randint\n",
    "from avrasm import *"
   ]
  },
  {
   "cell_type": "code",
   "execution_count": 2,
   "metadata": {},
   "outputs": [],
   "source": [
    "def setreg(reg, val):\n",
    "    return LDS(r(reg), a(0)).read(val, 0)(f\"set r{reg} to {val}\")\n",
    "\n",
    "def checkreg(reg, val):\n",
    "    return STS(a(0), r(reg)).write(val, 0)(f\"r{reg} should be {val}\")\n",
    "\n",
    "def setstatus(bit, isSet=True):\n",
    "    if isSet:\n",
    "        return BSET(bit)\n",
    "    else:\n",
    "        return BCLR(bit)\n",
    "\n",
    "def checkstatus(bit, isSet=True, label=\"done\"):\n",
    "    mssg = f\"bit {bit} of status should be {'set' if isSet else 'clear'}\"\n",
    "    if isSet:\n",
    "        return BRBC(bit, label)(mssg)\n",
    "    else:\n",
    "        return BRBS(bit, label)(mssg)"
   ]
  },
  {
   "cell_type": "code",
   "execution_count": 3,
   "metadata": {},
   "outputs": [],
   "source": [
    "def testCpse(regs, vals, instr):\n",
    "    \"\"\"test CPSE by setting two registers to values,\n",
    "    and seeing if instruction i is skipped\n",
    "    \"\"\"\n",
    "    reg1, reg2 = regs\n",
    "    val1, val2 = vals\n",
    "    skip = val1 == val2\n",
    "    mssg = f\"{val1} {'==' if skip else '!='} {val2}\"\n",
    "    if (skip):\n",
    "        instr.skip()\n",
    "    return [\n",
    "        setreg(reg1, val1),\n",
    "        setreg(reg2, val2),\n",
    "        CPSE(r(reg1), r(reg2)),\n",
    "        instr(mssg)\n",
    "    ]"
   ]
  },
  {
   "cell_type": "code",
   "execution_count": 4,
   "metadata": {},
   "outputs": [],
   "source": [
    "cpseTests = [\n",
    "    \"\\n;PREPROCESS TestCPSE\",\n",
    "    LDI(r(31), v(0x00)),\n",
    "    LDI(r(30), v(0x00)),\n",
    "    \"; skip a LD (1 word) instruction\",\n",
    "    testCpse(sample(range(30), 2), (0, 0), LD(r(0), 'Z').read(0, 0)),\n",
    "    \"; don't skip a LD instruction\",\n",
    "    testCpse(sample(range(30), 2), (0, randint(0,0xFF)), LD(r(0), 'Z').read(0, 0)),\n",
    "    \"; skip a STS (2 word) instruction\",\n",
    "    testCpse(sample(range(32), 2), (0, 0), checkreg(0,0xff)),\n",
    "    \"; don't skip a STS instruction\",\n",
    "    testCpse(sample(range(32), 2), (randint(0,0xFE), 0xFF), checkreg(0,0xff)),\n",
    "]"
   ]
  },
  {
   "cell_type": "code",
   "execution_count": 5,
   "metadata": {},
   "outputs": [],
   "source": [
    "def testSbrc(reg, val, bit, instr):\n",
    "    skip = not(val & (1<<bit))\n",
    "    mssg = f\"bit {bit} of {val:08b} is {'clear' if skip else 'set'}\"\n",
    "    if skip:\n",
    "        instr.skip()\n",
    "    return [\n",
    "        setreg(reg, val),\n",
    "        SBRC(r(reg), str(bit)),\n",
    "        instr(mssg)\n",
    "    ]"
   ]
  },
  {
   "cell_type": "code",
   "execution_count": 6,
   "metadata": {},
   "outputs": [],
   "source": [
    "sbrcTests = [\n",
    "    \"\\n;PREPROCESS TestSBRC\",\n",
    "    LDI(r(31), v(0x00)),\n",
    "    LDI(r(30), v(0x00)),\n",
    "    \"; skip a LD (1 word) instruction\",\n",
    "    testSbrc(choice(range(30)), 0xF0, 0, LD(r(0), 'Z').read(0, 0)),\n",
    "    \"; don't skip a LD instruction\",\n",
    "    testSbrc(choice(range(30)), 0x0F, 3, LD(r(0), 'Z').read(0, 0)),\n",
    "    \"; skip a STS (2 word) instruction\",\n",
    "    testSbrc(choice(range(32)), 0xF0, 1, checkreg(0,0xff)),\n",
    "    \"; don't skip a STS instruction\",\n",
    "    testSbrc(choice(range(32)), 0x0F, 2, checkreg(0,0xff)),\n",
    "]"
   ]
  },
  {
   "cell_type": "code",
   "execution_count": 7,
   "metadata": {},
   "outputs": [],
   "source": [
    "def testSbrS(reg, val, bit, instr):\n",
    "    skip = (val & (1<<bit))\n",
    "    mssg = f\"bit {bit} of {val:08b} is {'clear' if skip else 'set'}\"\n",
    "    if skip:\n",
    "        instr.skip()\n",
    "    return [\n",
    "        setreg(reg, val),\n",
    "        SBRC(r(reg), str(bit)),\n",
    "        instr(mssg)\n",
    "    ]"
   ]
  },
  {
   "cell_type": "code",
   "execution_count": 8,
   "metadata": {},
   "outputs": [],
   "source": [
    "sbrsTests = [\n",
    "    \"\\n;PREPROCESS TestSBRS\",\n",
    "    LDI(r(31), v(0x00)),\n",
    "    LDI(r(30), v(0x00)),\n",
    "    \"; skip a LD (1 word) instruction\",\n",
    "    testSbrc(choice(range(30)), 0xF0, 4, LD(r(0), 'Z').read(0, 0)),\n",
    "    \"; don't skip a LD instruction\",\n",
    "    testSbrc(choice(range(30)), 0x0F, 7, LD(r(0), 'Z').read(0, 0)),\n",
    "    \"; skip a STS (2 word) instruction\",\n",
    "    testSbrc(choice(range(32)), 0xF0, 5, checkreg(0,0xff)),\n",
    "    \"; don't skip a STS instruction\",\n",
    "    testSbrc(choice(range(32)), 0x0F, 6, checkreg(0,0xff)),\n",
    "]"
   ]
  },
  {
   "cell_type": "code",
   "execution_count": 9,
   "metadata": {},
   "outputs": [],
   "source": [
    "bits = [randint(0,1) == 0 for _ in range(8)]\n",
    "vals = [randint(0, 0xFF) for _ in range(32)]\n",
    "nopTests = [\n",
    "    \"\\n;PREPROCESS TestNOP\",\n",
    "    \"; set some random values in registers\",\n",
    "    [setstatus(i, bits[i]) for i in range(8)],\n",
    "    [setreg(i, vals[i]) for i in range(32)],\n",
    "    \"; do a whole lot of nothing\",\n",
    "    NOP(),NOP(),NOP(),\n",
    "    \"; check that indeed nothing happened\",\n",
    "    [checkreg(i, vals[i]) for i in range(32)],\n",
    "    [checkstatus(i, bits[i]) for i in range(8)],\n",
    "    NOP()[\"done\"]\n",
    "]"
   ]
  },
  {
   "cell_type": "code",
   "execution_count": 10,
   "metadata": {},
   "outputs": [],
   "source": [
    "skipTests = [\n",
    "    \"; Tests the flow control skip instructions and NOP\\n\",\n",
    "    cpseTests,\n",
    "    sbrcTests,\n",
    "    sbrsTests,\n",
    "    nopTests\n",
    "]\n",
    "with open(\"flow_skip.asm\", \"w\") as f:\n",
    "    f.write(stringify(skipTests))"
   ]
  },
  {
   "cell_type": "code",
   "execution_count": null,
   "metadata": {},
   "outputs": [],
   "source": []
  }
 ],
 "metadata": {
  "kernelspec": {
   "display_name": "Python 3",
   "language": "python",
   "name": "python3"
  },
  "language_info": {
   "codemirror_mode": {
    "name": "ipython",
    "version": 3
   },
   "file_extension": ".py",
   "mimetype": "text/x-python",
   "name": "python",
   "nbconvert_exporter": "python",
   "pygments_lexer": "ipython3",
   "version": "3.9.1"
  }
 },
 "nbformat": 4,
 "nbformat_minor": 4
}
