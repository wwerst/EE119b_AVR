{
 "cells": [
  {
   "cell_type": "markdown",
   "metadata": {},
   "source": [
    "# data movement"
   ]
  },
  {
   "cell_type": "code",
   "execution_count": 1,
   "metadata": {},
   "outputs": [],
   "source": [
    "from random import randint, sample, choice\n",
    "from avrasm import *"
   ]
  },
  {
   "cell_type": "code",
   "execution_count": 2,
   "metadata": {},
   "outputs": [],
   "source": [
    "doc = \"\"\"; Tests the data movement instructions\n",
    "\n",
    "; Note, we attempt to verify the behavior of the load instructions\n",
    "; by writing registers out with STS-\n",
    "; the load tests assume STS is functional.\n",
    "\"\"\""
   ]
  },
  {
   "cell_type": "markdown",
   "metadata": {},
   "source": [
    "## load instructions"
   ]
  },
  {
   "cell_type": "code",
   "execution_count": 3,
   "metadata": {},
   "outputs": [],
   "source": [
    "def checkreg(reg, val):\n",
    "    \"\"\"check that a register has expected value by writing it out\"\"\"\n",
    "    return STS(a(0), r(reg)).write(val, 0)(f\"r{reg} should be {val}\")"
   ]
  },
  {
   "cell_type": "code",
   "execution_count": 4,
   "metadata": {},
   "outputs": [],
   "source": [
    "def testLoadI(values):\n",
    "    \"\"\"Tests LDI instruction with a list of\n",
    "    (register, value)\n",
    "    \"\"\"\n",
    "    loads = [LDI(r(reg), v(value)) for (reg, value) in values]\n",
    "    stores = [checkreg(reg, value) for (reg, value) in values]\n",
    "    return loads + stores"
   ]
  },
  {
   "cell_type": "code",
   "execution_count": 5,
   "metadata": {},
   "outputs": [],
   "source": [
    "ldiTests = [\n",
    "    \"\\n\\n;PREPROCESS TestLDI\",\n",
    "    \"; do a few simple LDIs\",\n",
    "    testLoadI([(16, 0x00)]),\n",
    "    testLoadI([(17, 0xFF)]),\n",
    "    testLoadI([(18, 0x0F)]),\n",
    "    \"; do a fixed LDI into all 16 upper registers\",\n",
    "    testLoadI([(i, 0xEC) for i in range(16,32)]),\n",
    "    \"; do some random LDIs\",\n",
    "    testLoadI([(reg, randint(0,0xFF)) for reg in sample(range(16,32),10)])\n",
    "]"
   ]
  },
  {
   "cell_type": "code",
   "execution_count": 6,
   "metadata": {},
   "outputs": [],
   "source": [
    "def testLoad(values):\n",
    "    \"\"\"Tests LD instruction with list of\n",
    "    (target register, address register, value, address)\n",
    "    \"\"\"\n",
    "    loads = [LD(r(treg), areg).read(value, addr)\n",
    "                 for (treg, areg, value, addr) in values]\n",
    "    stores = [checkreg(treg, value) for (treg, _, value, _) in values]\n",
    "    return loads + stores"
   ]
  },
  {
   "cell_type": "code",
   "execution_count": 7,
   "metadata": {},
   "outputs": [],
   "source": [
    "regs = {\"X\": (26,27), \"Y\": (28,29), \"Z\": (30,31)}\n",
    "sampleRegs = lambda n, ex: sample(list(set(range(32)) - set(regs[ex])), n)\n",
    "def setWord(reg, value):\n",
    "    low, high = regs[reg]\n",
    "    return [\n",
    "        LDI(r(low), v(value%0x100))(f\"set {reg} to {a(value)}\"),\n",
    "        LDI(r(high), v(value//0x100))\n",
    "    ]\n",
    "\n",
    "def testLoadVariants(reg):\n",
    "    \"\"\"Test all variants of LD with the X, Y, or Z register\"\"\"\n",
    "    return [\n",
    "        f\"; do a few simple LDs from {reg} register\",\n",
    "        setWord(reg, 0x0004),\n",
    "        testLoad([(0, reg, 0xEC, 0x0004)]),\n",
    "        testLoad([(8, reg, 0xEC, 0x0004)]),\n",
    "        testLoad([(31, reg, 0xEC, 0x0004)]),\n",
    "        \"; load with pre decrement through 0x0000\",\n",
    "        testLoad([(r, f\"-{reg}\", randint(0,0xFF), (0x0004-i-1)%0x10000) \n",
    "                  for i,r in enumerate(sampleRegs(8,reg))]),\n",
    "        \"; load with post increment through 0xFFFF\",\n",
    "        testLoad([(r, f\"{reg}+\", randint(0,0xFF), (0xFFFC+i)%0x10000) \n",
    "                  for i,r in enumerate(sampleRegs(8,reg))])\n",
    "    ]"
   ]
  },
  {
   "cell_type": "code",
   "execution_count": 8,
   "metadata": {},
   "outputs": [],
   "source": [
    "ldTests = [\n",
    "    \"\\n\\n;PREPROCESS TestLD\\n\",\n",
    "    testLoadVariants(\"X\"),\n",
    "    testLoadVariants(\"Y\"),\n",
    "    testLoadVariants(\"Z\"),\n",
    "]"
   ]
  },
  {
   "cell_type": "code",
   "execution_count": 9,
   "metadata": {},
   "outputs": [],
   "source": [
    "def testLoadD(values):\n",
    "    \"\"\"Test LDD instruction with Y or Z register\n",
    "    (target register, address register, offset, value, actual address)\n",
    "    \"\"\"\n",
    "    loads = [LDD(r(treg), f\"{areg}+{off}\").read(value, addr) \n",
    "                 for (treg, areg, off, value, addr) in values]\n",
    "    stores = [checkreg(treg, value) for (treg, _, _, value, _) in values]\n",
    "    return loads + stores"
   ]
  },
  {
   "cell_type": "code",
   "execution_count": 10,
   "metadata": {},
   "outputs": [],
   "source": [
    "randReg = lambda ex: choice(list(set(range(32)) - set(regs[ex])))\n",
    "\n",
    "def testLoadDReg(reg):\n",
    "    \"\"\"Test LDD instruction with Y or Z register\"\"\"\n",
    "    offsets = [0] + [randint(0,63) for _ in range(6)] + [63]\n",
    "    return [\n",
    "        setWord(reg, 0xFFE0),\n",
    "        testLoadD([(randReg(reg), reg, off, randint(0,0xFF), (0xFFE0+off)%0x10000)\n",
    "              for off in offsets])\n",
    "    ]"
   ]
  },
  {
   "cell_type": "code",
   "execution_count": 11,
   "metadata": {},
   "outputs": [],
   "source": [
    "lddTests = [\n",
    "    \"\\n\\n;PREPROCESS TestLDD\\n\",\n",
    "    testLoadDReg(\"Y\"),\n",
    "    testLoadDReg(\"Z\"),\n",
    "]"
   ]
  },
  {
   "cell_type": "code",
   "execution_count": 12,
   "metadata": {},
   "outputs": [],
   "source": [
    "def testLoadS(values):\n",
    "    \"\"\"Tests LDS instruction with a list of\n",
    "    (register, value, address)\n",
    "    \"\"\"\n",
    "    loads = [LDS(r(reg), a(addr)).read(value, addr) for (reg, value, addr) in values]\n",
    "    stores = [checkreg(reg, value) for (reg, value, checkaddr) in values]\n",
    "    return loads + stores"
   ]
  },
  {
   "cell_type": "code",
   "execution_count": 13,
   "metadata": {},
   "outputs": [],
   "source": [
    "ldsTests = [\n",
    "    \"\\n\\n;PREPROCESS TestLDS\\n\",\n",
    "    \"; do a few simple LDSs\",\n",
    "    testLoadS([(0, 0xEC, 0x0000)]),\n",
    "    testLoadS([(15, 0xEC, 0xFF00)]),\n",
    "    testLoadS([(30, 0xEC, 0xFFFF)]),\n",
    "    \"; do some random LDSs\",\n",
    "    testLoadS([(reg, randint(0,0xFF),randint(0,0xFFFF)) for reg in sample(range(32),10)]),\n",
    "]"
   ]
  },
  {
   "cell_type": "code",
   "execution_count": 14,
   "metadata": {},
   "outputs": [],
   "source": [
    "loadTests = [\n",
    "    ldiTests, ldTests, lddTests, ldsTests\n",
    "]"
   ]
  },
  {
   "cell_type": "code",
   "execution_count": 15,
   "metadata": {},
   "outputs": [],
   "source": [
    "def testMove(regs):\n",
    "    value = randint(0,0xFF)\n",
    "    movs = [MOV(r(regs[i]), r(regs[i+1])) for i in range(len(regs)-1)]\n",
    "    return [\n",
    "        LDS(r(regs[0]), a(0x0000)).read(value, 0x0000),\n",
    "        movs,\n",
    "        checkreg(regs[-1], value)\n",
    "    ]"
   ]
  },
  {
   "cell_type": "code",
   "execution_count": 16,
   "metadata": {},
   "outputs": [],
   "source": [
    "movTests = [\n",
    "    \"\\n\\n;PREPROCESS TestMOV\\n\",\n",
    "    \"; do a few simple MOVs\",\n",
    "    testMove([0,1]),\n",
    "    testMove([31,30]),\n",
    "    \"; do a random move through all registers\",\n",
    "    testMove(sample(range(32),32))\n",
    "]"
   ]
  },
  {
   "cell_type": "markdown",
   "metadata": {},
   "source": [
    "## store tests"
   ]
  },
  {
   "cell_type": "code",
   "execution_count": 17,
   "metadata": {},
   "outputs": [],
   "source": [
    "def setreg(reg, val):\n",
    "    return LDS(r(reg), a(0)).read(val, 0)(f\"set r{reg} to {val}\")"
   ]
  },
  {
   "cell_type": "code",
   "execution_count": 18,
   "metadata": {},
   "outputs": [],
   "source": [
    "def testStore(values):\n",
    "    \"\"\"\n",
    "    (source register, address register, value, address)\n",
    "    \"\"\"\n",
    "    loads = [setreg(sreg, value) for (sreg, _, value, _) in values]\n",
    "    stores = [ST(areg, r(sreg)).write(value, addr)\n",
    "                     for (sreg, areg, value, addr) in values]\n",
    "    return loads + stores"
   ]
  },
  {
   "cell_type": "code",
   "execution_count": 19,
   "metadata": {},
   "outputs": [],
   "source": [
    "def testStoreVariants(reg):\n",
    "    return [\n",
    "        setWord(reg, 0x0004),\n",
    "        testStore([(0, reg, 0xEC, 0x0004)]),\n",
    "        testStore([(8, reg, 0xEC, 0x0004)]),\n",
    "        testStore([(31, reg, 0xEC, 0x0004)]),\n",
    "        \"; store with pre decrement through 0x0000\",\n",
    "        testStore([(r, f\"-{reg}\", randint(0,0xFF), (0x0004-i-1)%0x10000) \n",
    "                  for i,r in enumerate(sampleRegs(8,reg))]),\n",
    "        \"; store with post increment through 0xFFFF\",\n",
    "        testStore([(r, f\"{reg}+\", randint(0,0xFF), (0xFFFC+i)%0x10000) \n",
    "                  for i,r in enumerate(sampleRegs(8,reg))])\n",
    "    ]"
   ]
  },
  {
   "cell_type": "code",
   "execution_count": 20,
   "metadata": {},
   "outputs": [],
   "source": [
    "stTests = [\n",
    "    \"\\n\\n;PREPROCESS TestST\\n\",\n",
    "    testStoreVariants(\"X\"),\n",
    "    testStoreVariants(\"Y\"),\n",
    "    testStoreVariants(\"Z\")\n",
    "]"
   ]
  },
  {
   "cell_type": "code",
   "execution_count": 21,
   "metadata": {},
   "outputs": [],
   "source": [
    "def testStoreD(values):\n",
    "    \"\"\"Test STD instruction with Y or Z register\n",
    "    (source register, address register, offset, value, actual address)\n",
    "    \"\"\"\n",
    "    loads = [setreg(r(sreg), value) for (sreg, _, _, value, _) in values]\n",
    "    stores = [STD(f\"{areg}+{off}\", r(sreg)).write(value, addr)\n",
    "                 for (sreg, areg, off, value, addr) in values]\n",
    "    return loads + stores"
   ]
  },
  {
   "cell_type": "code",
   "execution_count": 22,
   "metadata": {},
   "outputs": [],
   "source": [
    "def testStoreDReg(reg):\n",
    "    \"\"\"Test STD instruction with Y or Z register\"\"\"\n",
    "    offsets = [0] + [randint(0,63) for _ in range(6)] + [63]\n",
    "    return [\n",
    "        setWord(reg, 0xFFE0),\n",
    "        testStoreD([(randReg(reg), reg, off, randint(0,0xFF), (0xFFE0+off)%0x10000)\n",
    "              for off in offsets])\n",
    "    ]"
   ]
  },
  {
   "cell_type": "code",
   "execution_count": 23,
   "metadata": {},
   "outputs": [],
   "source": [
    "stdTests = [ # ( ͡° ͜ʖ ͡°)\n",
    "    \"\\n\\n;PREPROCESS TestSTD\\n\",\n",
    "    testStoreDReg(\"Y\"),\n",
    "    testStoreDReg(\"Z\")\n",
    "]"
   ]
  },
  {
   "cell_type": "code",
   "execution_count": 24,
   "metadata": {},
   "outputs": [],
   "source": [
    "def testStoreS(values):\n",
    "    \"\"\"Tests STS instruction with a list of\n",
    "    (register, value, address)\n",
    "    \"\"\"\n",
    "    loads = [setreg(reg, value) for (reg, value, _) in values]\n",
    "    stores = [STS(a(addr), r(reg)).write(value, addr)\n",
    "                  for (reg, value, addr) in values]\n",
    "    return loads + stores"
   ]
  },
  {
   "cell_type": "code",
   "execution_count": 25,
   "metadata": {},
   "outputs": [],
   "source": [
    "stsTests = [\n",
    "    \"\\n\\n;PREPROCESS TestSTS\\n\",\n",
    "    \"; do a few simple STSs\",\n",
    "    testStoreS([(0, 0xEC, 0x0000)]),\n",
    "    testStoreS([(15, 0xEC, 0xFF00)]),\n",
    "    testStoreS([(30, 0xEC, 0xFFFF)]),\n",
    "    \"; do some random STSs\",\n",
    "    testStoreS([(reg, randint(0,0xFF),randint(0,0xFFFF)) for reg in sample(range(32),10)]),\n",
    "]"
   ]
  },
  {
   "cell_type": "code",
   "execution_count": 26,
   "metadata": {},
   "outputs": [],
   "source": [
    "storeTests = [stTests, stdTests, stsTests]"
   ]
  },
  {
   "cell_type": "code",
   "execution_count": 27,
   "metadata": {},
   "outputs": [],
   "source": [
    "def testPushPop(regs):\n",
    "    values = [randint(0,0xFF) for _ in regs]\n",
    "    loads = [setreg(regs[i], values[i]) for i in range(len(regs))]\n",
    "    pushes = [PUSH(r(regs[i])).write(values[i], (-i)%0x10000) for i in range(len(regs))]\n",
    "    pops = [POP(r(regs[-i-1])).read(values[-i-1], (-len(regs)+i+1)%0x10000) for i in range(len(regs))]\n",
    "    stores = [checkreg(regs[i], values[i]) for i in range(len(regs))]\n",
    "    return [\n",
    "        \"; load some random values into registers\", loads,\n",
    "        \"; push all the registers\", pushes,\n",
    "        \"; pop all the registers\", pops,\n",
    "        \"; check all the values are unchanged\", stores\n",
    "    ]"
   ]
  },
  {
   "cell_type": "code",
   "execution_count": 28,
   "metadata": {},
   "outputs": [],
   "source": [
    "pushpopTests = [\n",
    "    \";PREPROCESS TestPOP\",\n",
    "    \";PREPROCESS TestPOP\",\n",
    "    testPushPop(sample(range(32),32))\n",
    "]"
   ]
  },
  {
   "cell_type": "markdown",
   "metadata": {},
   "source": [
    "## output"
   ]
  },
  {
   "cell_type": "code",
   "execution_count": 29,
   "metadata": {},
   "outputs": [],
   "source": [
    "datamoveTests = [\n",
    "    doc,\n",
    "    loadTests,\n",
    "    movTests,\n",
    "    storeTests,\n",
    "    pushpopTests\n",
    "]"
   ]
  },
  {
   "cell_type": "code",
   "execution_count": 30,
   "metadata": {},
   "outputs": [],
   "source": [
    "with open(\"data_move_test.asm\", \"w\") as f:\n",
    "    f.write(stringify(datamoveTests))"
   ]
  }
 ],
 "metadata": {
  "kernelspec": {
   "display_name": "Python 3",
   "language": "python",
   "name": "python3"
  },
  "language_info": {
   "codemirror_mode": {
    "name": "ipython",
    "version": 3
   },
   "file_extension": ".py",
   "mimetype": "text/x-python",
   "name": "python",
   "nbconvert_exporter": "python",
   "pygments_lexer": "ipython3",
   "version": "3.9.1"
  }
 },
 "nbformat": 4,
 "nbformat_minor": 4
}
